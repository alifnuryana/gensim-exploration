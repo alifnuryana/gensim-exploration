{
 "cells": [
  {
   "metadata": {
    "ExecuteTime": {
     "end_time": "2024-09-06T19:00:46.659204Z",
     "start_time": "2024-09-06T19:00:46.649478Z"
    }
   },
   "cell_type": "code",
   "source": [
    "from pprint import pprint\n",
    "\n",
    "import pandas as pd\n",
    "\n",
    "df = pd.read_csv('teknik-informatika-raw.csv')\n",
    "abstracts = df['abstract'].tolist()\n",
    "title = df['title']"
   ],
   "id": "bedd7603847dd144",
   "outputs": [],
   "execution_count": 110
  },
  {
   "metadata": {
    "ExecuteTime": {
     "end_time": "2024-09-06T19:00:46.697946Z",
     "start_time": "2024-09-06T19:00:46.694644Z"
    }
   },
   "cell_type": "code",
   "source": [
    "import nltk\n",
    "\n",
    "nltk.download('stopwords', download_dir='.venv/nltk_data')"
   ],
   "id": "94733b8eb841062e",
   "outputs": [
    {
     "name": "stderr",
     "output_type": "stream",
     "text": [
      "[nltk_data] Downloading package stopwords to .venv/nltk_data...\n",
      "[nltk_data]   Package stopwords is already up-to-date!\n"
     ]
    },
    {
     "data": {
      "text/plain": [
       "True"
      ]
     },
     "execution_count": 111,
     "metadata": {},
     "output_type": "execute_result"
    }
   ],
   "execution_count": 111
  },
  {
   "metadata": {
    "ExecuteTime": {
     "end_time": "2024-09-06T19:00:46.864733Z",
     "start_time": "2024-09-06T19:00:46.859988Z"
    }
   },
   "cell_type": "code",
   "source": [
    "from nltk.corpus import stopwords\n",
    "import string\n",
    "import re\n",
    "import json\n",
    "\n",
    "def lower_case(text):\n",
    "    return text.lower()\n",
    "\n",
    "def remove_punctuation(text):\n",
    "    return text.translate(str.maketrans('', '', string.punctuation))\n",
    "\n",
    "def remove_numbers(text):\n",
    "    return re.sub(r'\\d+', '', text)\n",
    "\n",
    "def remove_whitespace(text):\n",
    "    return text.strip()\n",
    "\n",
    "with open('stopwords-id.json') as f:\n",
    "    stopwords_id = json.load(f)\n",
    "\n",
    "stopwords_indonesian = stopwords.words('indonesian')\n",
    "stopwords_indonesian.extend(stopwords_id)\n",
    "\n",
    "def remove_stopwords(text):\n",
    "    return ' '.join([word for word in text.split() if word not in stopwords_indonesian])"
   ],
   "id": "bf9974ccfeccbf01",
   "outputs": [],
   "execution_count": 112
  },
  {
   "metadata": {
    "ExecuteTime": {
     "end_time": "2024-09-06T19:00:47.738083Z",
     "start_time": "2024-09-06T19:00:46.906404Z"
    }
   },
   "cell_type": "code",
   "source": [
    "def preprocess(text):\n",
    "    text = lower_case(text)\n",
    "    text = remove_punctuation(text)\n",
    "    text = remove_numbers(text)\n",
    "    text = remove_whitespace(text)\n",
    "    text = remove_stopwords(text)\n",
    "    return text\n",
    "\n",
    "abstracts = [preprocess(abstract) for abstract in abstracts]"
   ],
   "id": "b42c8f4d1f6c2fbd",
   "outputs": [],
   "execution_count": 113
  },
  {
   "metadata": {
    "ExecuteTime": {
     "end_time": "2024-09-06T19:00:47.753804Z",
     "start_time": "2024-09-06T19:00:47.750983Z"
    }
   },
   "cell_type": "code",
   "source": [
    "from sklearn.feature_extraction.text import TfidfVectorizer\n",
    "\n",
    "vectorizer = TfidfVectorizer(\n",
    "    max_features=100,\n",
    "    max_df=0.8,\n",
    "    min_df=0.2,\n",
    "    ngram_range=(1, 3)\n",
    ")"
   ],
   "id": "26ef35034c043c5a",
   "outputs": [],
   "execution_count": 114
  },
  {
   "metadata": {
    "ExecuteTime": {
     "end_time": "2024-09-06T19:00:47.996859Z",
     "start_time": "2024-09-06T19:00:47.792498Z"
    }
   },
   "cell_type": "code",
   "source": "tfidf_matrix = vectorizer.fit_transform(abstracts)",
   "id": "827262bcfa693aea",
   "outputs": [],
   "execution_count": 115
  },
  {
   "metadata": {
    "ExecuteTime": {
     "end_time": "2024-09-06T19:00:48.013741Z",
     "start_time": "2024-09-06T19:00:48.009791Z"
    }
   },
   "cell_type": "code",
   "source": [
    "features_names = vectorizer.get_feature_names_out()\n",
    "dense = tfidf_matrix.todense()\n",
    "denselist = dense.tolist()\n",
    "\n",
    "all_keywords = []\n",
    "\n",
    "for description in denselist:\n",
    "    x = 0\n",
    "    keywords = []\n",
    "    for word in description:\n",
    "        if word > 0:\n",
    "            keywords.append(features_names[x])\n",
    "        x += 1\n",
    "    all_keywords.append(keywords)"
   ],
   "id": "c0062e9ac7ef9f9c",
   "outputs": [],
   "execution_count": 116
  },
  {
   "metadata": {
    "ExecuteTime": {
     "end_time": "2024-09-06T19:00:48.054060Z",
     "start_time": "2024-09-06T19:00:48.051644Z"
    }
   },
   "cell_type": "code",
   "source": [
    "from pprint import pprint\n",
    "\n",
    "pprint(abstracts[0])\n",
    "pprint(all_keywords[0])"
   ],
   "id": "fcff76e21dfe1fdd",
   "outputs": [
    {
     "name": "stdout",
     "output_type": "stream",
     "text": [
      "('segmentasi pelanggan berdasarkan rfm menargetkan bagianbagian pelanggannya '\n",
      " 'meminimalkan biaya perpesanan meningkatkan profitabilitas metode rfm '\n",
      " 'pengelompokan pelanggan pelanggan dinilai profitabilitasnya perusahaan '\n",
      " 'transaksi segmentasi pelanggan teknik data mining clustering keputusan '\n",
      " 'bisnis efektif strategi bisnis segmennya penelitian teknik hierarchical '\n",
      " 'clustering pengelompokan data metode agglomerative hierarchical clustering '\n",
      " 'ahc memproses hasil analisis rfm dimana metode menghasilkan pengelompokan '\n",
      " 'pelanggan dimana pelanggan masuk kelompok data penelitian data transaksi '\n",
      " 'retail data data jupyter notebook tools implementasi metode bahasa python '\n",
      " 'mengolah data mempresentasikan data luaran penelitian segmentasi pelanggan '\n",
      " 'ditampilkan visualisasi grafik menggambarkan perilaku bisnis pelanggan '\n",
      " 'segmentasi pelanggan dihasilkan kelompok dimana kelompok kelompok '\n",
      " 'berdasarkan data transaksi')\n",
      "['bahasa', 'berdasarkan', 'data', 'hasil', 'metode', 'penelitian', 'perusahaan']\n"
     ]
    }
   ],
   "execution_count": 117
  }
 ],
 "metadata": {
  "kernelspec": {
   "display_name": "Python 3",
   "language": "python",
   "name": "python3"
  },
  "language_info": {
   "codemirror_mode": {
    "name": "ipython",
    "version": 2
   },
   "file_extension": ".py",
   "mimetype": "text/x-python",
   "name": "python",
   "nbconvert_exporter": "python",
   "pygments_lexer": "ipython2",
   "version": "2.7.6"
  }
 },
 "nbformat": 4,
 "nbformat_minor": 5
}
